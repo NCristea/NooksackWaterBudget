{
 "cells": [
  {
   "cell_type": "code",
   "execution_count": 2,
   "metadata": {},
   "outputs": [],
   "source": [
    "import xarray as xr\n",
    "import glob\n",
    "import pandas as pd\n",
    "#data = xr.open_dataset('LIS_HIST_nn_200909.nc', engine = 'netcdf4') \n",
    "#print(data)\n",
    "#lon = data.lon.values[0]\n",
    "path = '/Users/carina/Desktop/data/seup/TUM/SEUP/'\n",
    "\n",
    "#fileList = glob.glob(path + '*.nc')\n",
    "#fileList.sort()"
   ]
  },
  {
   "cell_type": "code",
   "execution_count": null,
   "metadata": {},
   "outputs": [],
   "source": [
    "#upload data and explore the file \n",
    "\n",
    "dat = xr.open_dataset(path + 'LIS_HIST_SWE_20160201-201602dd.nc', engine = 'netcdf4') \n",
    "#a = dat.SnowT_tavg.to_dataframe()\n",
    "#a\n",
    "#b = a.groupby(\"SnowT_tavg\")\n",
    "#a.north_south.plot()\n",
    "#b.plot()\n",
    "dat\n",
    "\n"
   ]
  },
  {
   "cell_type": "code",
   "execution_count": 11,
   "metadata": {},
   "outputs": [
    {
     "data": {
      "text/plain": [
       "<matplotlib.collections.QuadMesh at 0x30f6a0a20>"
      ]
     },
     "execution_count": 11,
     "metadata": {},
     "output_type": "execute_result"
    },
    {
     "data": {
      "image/png": "[encoded data removed]",
      "text/plain": [
       "<Figure size 432x288 with 2 Axes>"
      ]
     },
     "metadata": {},
     "output_type": "display_data"
    }
   ],
   "source": [
    "%matplotlib inline \n",
    "DataArray = dat.SWE_tavg.sel(time = '2016-02-01T12:00:00')\n",
    "DataArray.plot()\n"
   ]
  },
  {
   "cell_type": "code",
   "execution_count": 13,
   "metadata": {},
   "outputs": [
    {
     "data": {
      "text/plain": [
       "<bound method ImplementsArrayReduce._reduce_method.<locals>.wrapped_func of <xarray.DataArray 'SWE_tavg' (time: 29, north_south: 941, east_west: 2336)>\n",
       "[63747104 values with dtype=float32]\n",
       "Coordinates:\n",
       "  * time     (time) datetime64[ns] 2016-02-01T12:00:00 2016-02-02T12:00:00 ...\n",
       "Dimensions without coordinates: north_south, east_west\n",
       "Attributes:\n",
       "    units:          kg m-2\n",
       "    standard_name:  liquid_water_content_of_surface_snow\n",
       "    long_name:      snow water equivalent\n",
       "    vmin:           0.0\n",
       "    vmax:           0.0>"
      ]
     },
     "execution_count": 13,
     "metadata": {},
     "output_type": "execute_result"
    }
   ],
   "source": [
    "test = dat.SWE_tavg.mean\n",
    "test"
   ]
  },
  {
   "cell_type": "code",
   "execution_count": null,
   "metadata": {},
   "outputs": [],
   "source": [
    "#dat.SWE_tavg[:,988,261].plot() \n",
    "dat.size"
   ]
  },
  {
   "cell_type": "code",
   "execution_count": null,
   "metadata": {},
   "outputs": [],
   "source": [
    "import numpy as np\n",
    "import xarray as xr\n",
    "from matplotlib import pyplot as plt\n",
    "%matplotlib inline\n",
    "plt.rcParams['figure.figsize'] = (8,5)"
   ]
  },
  {
   "cell_type": "code",
   "execution_count": null,
   "metadata": {},
   "outputs": [],
   "source": [
    "da = xr.DataArray([9, 0, 2, 1, 0])\n",
    "da"
   ]
  },
  {
   "cell_type": "code",
   "execution_count": 19,
   "metadata": {},
   "outputs": [
    {
     "data": {
      "text/plain": [
       "<xarray.DataArray (x: 5)>\n",
       "array([9, 0, 2, 1, 0])\n",
       "Dimensions without coordinates: x"
      ]
     },
     "execution_count": 19,
     "metadata": {},
     "output_type": "execute_result"
    }
   ],
   "source": [
    "da = xr.DataArray([9, 0, 2, 1, 0], dims=['x'])\n",
    "da"
   ]
  },
  {
   "cell_type": "code",
   "execution_count": 20,
   "metadata": {},
   "outputs": [
    {
     "data": {
      "text/plain": [
       "<xarray.DataArray (x: 5)>\n",
       "array([9, 0, 2, 1, 0])\n",
       "Coordinates:\n",
       "  * x        (x) int64 10 20 30 40 50"
      ]
     },
     "execution_count": 20,
     "metadata": {},
     "output_type": "execute_result"
    }
   ],
   "source": [
    "da = xr.DataArray([9, 0, 2, 1, 0],\n",
    "                  dims=['x'],\n",
    "                  coords={'x': [10, 20, 30, 40, 50]})\n",
    "da"
   ]
  },
  {
   "cell_type": "code",
   "execution_count": null,
   "metadata": {},
   "outputs": [],
   "source": []
  }
 ],
 "metadata": {
  "kernelspec": {
   "display_name": "Python 3",
   "language": "python",
   "name": "python3"
  },
  "language_info": {
   "codemirror_mode": {
    "name": "ipython",
    "version": 3
   },
   "file_extension": ".py",
   "mimetype": "text/x-python",
   "name": "python",
   "nbconvert_exporter": "python",
   "pygments_lexer": "ipython3",
   "version": "3.6.5"
  }
 },
 "nbformat": 4,
 "nbformat_minor": 2
}
