{
 "cells": [
  {
   "cell_type": "code",
   "execution_count": null,
   "metadata": {},
   "outputs": [],
   "source": [
    "%reset"
   ]
  },
  {
   "cell_type": "code",
   "execution_count": 11,
   "metadata": {},
   "outputs": [],
   "source": [
    "import xarray as xr\n",
    "import glob\n",
    "import pandas as pd\n",
    "#data = xr.open_dataset('LIS_HIST_nn_200909.nc', engine = 'netcdf4') \n",
    "#print(data)\n",
    "#lon = data.lon.values[0]\n",
    "path = '/Users/carina/Desktop/data/seup/TUM/SEUP/'\n",
    "\n",
    "fileList = glob.glob(path + '*.nc')\n",
    "fileList.sort()\n"
   ]
  },
  {
   "cell_type": "code",
   "execution_count": 6,
   "metadata": {},
   "outputs": [],
   "source": [
    "def process_month(file):\n",
    "    data = xr.open_dataset(file, engine = 'netcdf4') \n",
    "    attrs_ = {'units': 'hours since 1900-01-01'}\n",
    "    ds_temp = xr.Dataset({'time': ('time', data.time, attrs_)})\n",
    "    temp = xr.decode_cf(ds_temp)\n",
    "    ds_reduced = xr.Dataset({'SnowDepth': (['time'], data.SnowDepth_tavg.values[:, 0, 0]),\n",
    "                                  'SnowT':(['time'], data.SnowT_tavg.values[:, 0, 0, 0]),\n",
    "                                  'Qs_tavg':(['time'], data.Qs_tavg.values[:, 0, 0]),\n",
    "                                  'SWE_tavg':(['time'], data.SWE_tavg.values[:, 0, 0])},\n",
    "                                 coords = {'longitude': (data.lon.values[0, 0, 0]),\n",
    "                                           'latitude': (data.lat.values[0, 0, 0]),\n",
    "                                           'time': temp.time.values})\n",
    "    return ds_reduced"
   ]
  },
  {
   "cell_type": "code",
   "execution_count": 7,
   "metadata": {},
   "outputs": [],
   "source": [
    "ds_total = None\n",
    "for file in fileList:\n",
    "    ds = process_month(file)\n",
    "    if ds_total:\n",
    "        ds_total = xr.concat([ds_total, ds], dim = 'time')\n",
    "    else:\n",
    "        ds_total = ds"
   ]
  },
  {
   "cell_type": "code",
   "execution_count": null,
   "metadata": {},
   "outputs": [],
   "source": [
    "dat = xr.open_dataset(path + 'LIS_HIST_nn_200909.nc', engine = 'netcdf4') \n",
    "a = dat.SnowT_tavg.to_dataframe()\n",
    "#a\n",
    "b = a.groupby(\"SnowT_tavg\")\n",
    "#a.north_south.plot()\n",
    "b.plot()\n",
    "dat"
   ]
  },
  {
   "cell_type": "code",
   "execution_count": null,
   "metadata": {},
   "outputs": [],
   "source": [
    "# xarray dataset for Dana\n",
    "dana = pd.read_csv(path + 'hourly_met_DANA_IDSOCLOUd_scaledP_1.1.txt', sep=r'\\t', engine='python')\n",
    "dana.columns = ['date', 'air_t', 'ws', 'RH', 'SW', 'LW', 'Precip'] \n",
    "dana['hours'] = dana.index\n",
    "attrs_dana = {'units': 'hours since 2002-10-01'}\n",
    "ds_temp_dana = xr.Dataset({'time': ('time', dana.hours, attrs_dana)})\n",
    "\n",
    "temp_dana = xr.decode_cf(ds_temp_dana)\n",
    "ds_dana = xr.Dataset({'air_t': (['time'], dana.air_t),\n",
    "                                  'ws':(['time'], dana.ws),\n",
    "                                  'RH':(['time'], dana.RH),\n",
    "                                  'SW':(['time'], dana.SW),\n",
    "                                  'LW':(['time'], dana.LW),\n",
    "                              'Precip':(['time'], dana.Precip)},\n",
    "                                 coords = {'longitude': 37.897,\n",
    "                                           'latitude': -119.257,\n",
    "                                           'time': temp_dana.time.values})\n"
   ]
  },
  {
   "cell_type": "code",
   "execution_count": null,
   "metadata": {},
   "outputs": [],
   "source": [
    "import matplotlib.pyplot as plt\n",
    "%matplotlib inline\n",
    "monthly_avg_dana = ds_dana.resample(time='1MS').mean()\n",
    "monthly_avg_seup = ds_total.resample(time='1MS').mean()\n",
    "a = monthly_avg_dana.air_t.to_dataframe()\n",
    "#b = monthly_avg_seup\n",
    "a.air_t.plot()"
   ]
  },
  {
   "cell_type": "code",
   "execution_count": null,
   "metadata": {},
   "outputs": [],
   "source": []
  },
  {
   "cell_type": "code",
   "execution_count": 16,
   "metadata": {},
   "outputs": [
    {
     "data": {
      "text/plain": [
       "<xarray.Dataset>\n",
       "Dimensions:    (time: 130031)\n",
       "Coordinates:\n",
       "    longitude  float64 37.9\n",
       "    latitude   float64 -119.3\n",
       "  * time       (time) datetime64[ns] 2002-10-01 2002-10-01T01:00:00 ...\n",
       "Data variables:\n",
       "    air_t      (time) float64 -5.56 -6.11 -6.67 -7.78 -7.22 -7.78 -6.11 ...\n",
       "    ws         (time) float64 0.447 0.447 0.447 0.447 0.447 0.447 0.894 ...\n",
       "    RH         (time) float64 52.0 44.0 41.0 47.0 88.0 94.0 88.0 62.0 50.0 ...\n",
       "    SW         (time) float64 0.0 0.0 0.0 0.0 0.0 0.0 17.69 124.6 236.8 ...\n",
       "    LW         (time) float64 215.4 212.0 209.4 206.5 215.2 214.0 284.4 ...\n",
       "    Precip     (time) float64 0.0 0.0 0.0 0.0 0.0 0.0 0.0 0.0 0.0 0.0 0.0 ..."
      ]
     },
     "execution_count": 16,
     "metadata": {},
     "output_type": "execute_result"
    }
   ],
   "source": [
    "ds_dana"
   ]
  },
  {
   "cell_type": "code",
   "execution_count": null,
   "metadata": {},
   "outputs": [],
   "source": []
  }
 ],
 "metadata": {
  "kernelspec": {
   "display_name": "Python 3",
   "language": "python",
   "name": "python3"
  },
  "language_info": {
   "codemirror_mode": {
    "name": "ipython",
    "version": 3
   },
   "file_extension": ".py",
   "mimetype": "text/x-python",
   "name": "python",
   "nbconvert_exporter": "python",
   "pygments_lexer": "ipython3",
   "version": "3.6.5"
  }
 },
 "nbformat": 4,
 "nbformat_minor": 2
}
